{
 "cells": [
  {
   "cell_type": "code",
   "execution_count": 13,
   "metadata": {},
   "outputs": [],
   "source": [
    "#1 celcius to kelvin\n",
    "def celtokel(celcius): #penamaan dan parameter function\n",
    "    kels = celcius + 273.5 # rumus perubahan celcius to kelvin\n",
    "    return  kels #menyimpan parameter kels"
   ]
  },
  {
   "cell_type": "code",
   "execution_count": 15,
   "metadata": {},
   "outputs": [
    {
     "data": {
      "text/plain": [
       "373.5"
      ]
     },
     "execution_count": 15,
     "metadata": {},
     "output_type": "execute_result"
    }
   ],
   "source": [
    "celtokel(100)"
   ]
  },
  {
   "cell_type": "code",
   "execution_count": 11,
   "metadata": {},
   "outputs": [],
   "source": [
    "#2 kelvin to celcius\n",
    "def keltocel(kelvin): #penamaan dan parameter function\n",
    "    cels = kelvin - 273.15 # rumus perubahan kelvin to celcius\n",
    "    return  cels #menyimpan parameter cels"
   ]
  },
  {
   "cell_type": "code",
   "execution_count": 12,
   "metadata": {},
   "outputs": [
    {
     "data": {
      "text/plain": [
       "99.85000000000002"
      ]
     },
     "execution_count": 12,
     "metadata": {},
     "output_type": "execute_result"
    }
   ],
   "source": [
    "keltocel(373)"
   ]
  },
  {
   "cell_type": "code",
   "execution_count": 58,
   "metadata": {},
   "outputs": [],
   "source": [
    "#3 celcius/kelvin ke fahrenheit, dengan panggil function pertama\n",
    "def tofahr(celkel, arg) : #penamaan dan parameter function\n",
    "    \n",
    "\n",
    "    if str(arg=='celcius'): # tambahan argumen untuk memastikan celcius\n",
    "        celz = (celkel * 9/5) + 32 # rumus ke fahrenheit jika celcius\n",
    "        return celz #menyimpan parameter celz\n",
    "    elif str(arg=='kelvin'): # tambahan argumen untuk memastikan kelvin\n",
    "        kelz = (keltocel(celkel)) * 9/5 + 32 # rumus ke fahrenheit jika kelvin\n",
    "                                             # dengan memanggil function pertama\n",
    "                                             # agar efisien\n",
    "        return kelz\n",
    "    else: # jika user tidak memasukan celcius atau kelvin\n",
    "        print(\"masukan celcius atau kelvin\") # user akan mendapatkan notice \n",
    "\n",
    "\n",
    "\n",
    "\n"
   ]
  },
  {
   "cell_type": "code",
   "execution_count": 60,
   "metadata": {},
   "outputs": [
    {
     "data": {
      "text/plain": [
       "212.0"
      ]
     },
     "execution_count": 60,
     "metadata": {},
     "output_type": "execute_result"
    }
   ],
   "source": [
    "tofahr(100, \"kelvin\") #ini permisalan input kelvin"
   ]
  },
  {
   "cell_type": "code",
   "execution_count": 61,
   "metadata": {},
   "outputs": [
    {
     "data": {
      "text/plain": [
       "212.0"
      ]
     },
     "execution_count": 61,
     "metadata": {},
     "output_type": "execute_result"
    }
   ],
   "source": [
    "tofahr(100, \"celcius\") #ini permisalan input celcius"
   ]
  },
  {
   "cell_type": "code",
   "execution_count": null,
   "metadata": {},
   "outputs": [],
   "source": [
    "#4 celcius/kelvin ke fahrenheit, sama aja kaya 3\n",
    "def tofahr(celkel, arg) : #penamaan dan parameter function\n",
    "    \n",
    "\n",
    "    if str(arg=='celcius'): # tambahan argumen untuk memastikan celcius\n",
    "        celz = (celkel * 9/5) + 32 # rumus ke fahrenheit jika celcius\n",
    "        return celz #menyimpan parameter celz\n",
    "    elif str(arg=='kelvin'): # tambahan argumen untuk memastikan kelvin\n",
    "        kelz = (keltocel(celkel)) * 9/5 + 32 # rumus ke fahrenheit jika kelvin\n",
    "                                             # dengan memanggil function pertama\n",
    "                                             # agar efisien\n",
    "        return kelz\n",
    "    else: # jika user tidak memasukan celcius atau kelvin\n",
    "        print(\"masukan celcius atau kelvin\") # user akan mendapatkan notice \n",
    "\n"
   ]
  }
 ],
 "metadata": {
  "kernelspec": {
   "display_name": "base",
   "language": "python",
   "name": "python3"
  },
  "language_info": {
   "codemirror_mode": {
    "name": "ipython",
    "version": 3
   },
   "file_extension": ".py",
   "mimetype": "text/x-python",
   "name": "python",
   "nbconvert_exporter": "python",
   "pygments_lexer": "ipython3",
   "version": "3.9.15"
  },
  "orig_nbformat": 4,
  "vscode": {
   "interpreter": {
    "hash": "9ce06e11a367f60380f41111396afec5fcebf5edb33d705e24cc3d6d6e865f5a"
   }
  }
 },
 "nbformat": 4,
 "nbformat_minor": 2
}
